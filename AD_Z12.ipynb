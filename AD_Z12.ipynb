{
 "cells": [
  {
   "cell_type": "markdown",
   "metadata": {},
   "source": [
    "# Dźwięk.\n",
    "\n",
    "# Zadanie 1  \n",
    "\n",
    "  * Wygeneruj i narysuj sygnał o:\n",
    "    * amplitudzie jeden (A = 1)\n",
    "    * zerowym przesunięcie w fazie (phi = 0)\n",
    "    * częstotliwości 3 Hz\n",
    "  * Wygeneruj i narysuj sygnał o:\n",
    "    * amplitudzie jeden (A = 1)\n",
    "    * zerowym przesunięcie w fazie (phi = 0)\n",
    "    * częstotliwości 5 Hz\n",
    "  * Wygeneruj i narysuj sygnał będący sumą powyższych."
   ]
  },
  {
   "cell_type": "code",
   "execution_count": null,
   "metadata": {
    "collapsed": true
   },
   "outputs": [],
   "source": []
  },
  {
   "cell_type": "markdown",
   "metadata": {},
   "source": [
    "# Zadanie 2 \n",
    "  * Wygeneruj sygnał o:\n",
    "    * amplitudzie jeden (A = 1)\n",
    "    * zerowym przesunięcie w fazie (phi = 0)\n",
    "    * częstotliwości 25 Hz\n",
    "  * Wygeneruj sygnał o:\n",
    "    * amplitudzie jeden (A = 1)\n",
    "    * zerowym przesunięcie w fazie (phi = 0)\n",
    "    * częstotliwości 40 Hz\n",
    "  * Wygeneruj sygnał będący sumą powyższych.\n",
    "  * Dokonaj FFT (przy rysowaniu weź moduł gdyż dane mogą być zespolone).\n",
    "    * Możesz użyć modułów liczb zespolonych\n",
    "    * Narysuj wykres (w dziedzinie częstotliwości).\n",
    "    * Odczytaj jakie częstotliwości posiada sygnał.\n",
    "\t\t\t\t\n",
    "  * Dokonaj IFFT.\n",
    "    * Narysuj wykres (w dziedzinie czasu).\n",
    "    * Sprawdź jak sygnał został zmodyfikowany."
   ]
  },
  {
   "cell_type": "code",
   "execution_count": null,
   "metadata": {
    "collapsed": true
   },
   "outputs": [],
   "source": []
  },
  {
   "cell_type": "markdown",
   "metadata": {},
   "source": [
    "# Zadanie\n",
    "\n",
    "  * Wygeneruj sygnał o:\n",
    "    * amplitudzie jeden (A = 1)\n",
    "    * zerowym przesunięcie w fazie (phi = 0)\n",
    "    * częstotliwości 25 Hz\n",
    "  * Wygeneruj sygnał o:\n",
    "    * amplitudzie jeden (A = 1)\n",
    "    * zerowym przesunięcie w fazie (phi = 0)\n",
    "    * częstotliwości 40 Hz\n",
    "  * Wygeneruj sygnał będący sumą powyższych.\n",
    "  * **Dodaj szum typu Gaussa.**\n",
    "  * Dokonaj FFT (przy rysowaniu weź moduł gdyż dane mogą być zespolone).\n",
    "    * Możesz użyć modułów liczb zespolonych\n",
    "    * Narysuj wykres (w dziedzinie częstotliwości).\n",
    "    * Odczytaj jakie częstotliwości posiada sygnał.\n",
    "  * **Porównaj wykres transformaty Fouriera (z szumem Gaussa) z tym z poprzedniego zadania.**\t\n",
    "  * **Prostym progowaniem usuń szum - wartości po niżej jakiejś progu.**  \n",
    "  * Dokonaj IFFT.\n",
    "    * Narysuj wykres (w dziedzinie czasu).\n",
    "    * Sprawdź jak sygnał został zmodyfikowany.\n"
   ]
  },
  {
   "cell_type": "code",
   "execution_count": null,
   "metadata": {
    "collapsed": true
   },
   "outputs": [],
   "source": []
  },
  {
   "cell_type": "markdown",
   "metadata": {},
   "source": [
    "# Zadanie 4\n",
    "\n",
    "Proszę wyczyścić dźwięk za pomocą transformaty Fouriera:\n",
    "\n",
    "  * Proszę nagrać swój dźwięk.\n",
    "  * Proszę dać dowolny szum tak by był słyszalny.\n",
    "  * Proszę usunąć szum za pomoca progowania w dziedzinie częstotliwości"
   ]
  },
  {
   "cell_type": "code",
   "execution_count": null,
   "metadata": {
    "collapsed": true
   },
   "outputs": [],
   "source": []
  },
  {
   "cell_type": "markdown",
   "metadata": {},
   "source": [
    "# Zadanie 5\n",
    "\n",
    "Proszę zaimplementować funkcję rysują spektrogram dla dźwięku.\n",
    "\n",
    "  * Funkcja powinna pobierać dwa argumenty:\n",
    "    * dane\n",
    "    * szerokość okna\n",
    "    * (dla chętnych) funkcję wygładzającą brzegi\n",
    "  * Proszę narysować spektrogram dla:\n",
    "      * <tt>sin(0.5*t)+sin(0.7*t)</tt>\n",
    "      * <tt>sin (0.000001*t^2)</tt>\n",
    "      * dla własnego głosu"
   ]
  },
  {
   "cell_type": "code",
   "execution_count": null,
   "metadata": {
    "collapsed": true
   },
   "outputs": [],
   "source": []
  }
 ],
 "metadata": {
  "kernelspec": {
   "display_name": "Python 3",
   "language": "python",
   "name": "python3"
  },
  "language_info": {
   "codemirror_mode": {
    "name": "ipython",
    "version": 3
   },
   "file_extension": ".py",
   "mimetype": "text/x-python",
   "name": "python",
   "nbconvert_exporter": "python",
   "pygments_lexer": "ipython3",
   "version": "3.5.4"
  }
 },
 "nbformat": 4,
 "nbformat_minor": 2
}
